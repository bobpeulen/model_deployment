{
 "cells": [
  {
   "cell_type": "markdown",
   "id": "395a5252",
   "metadata": {},
   "source": [
    "# **Roberta Base - Deploying model**"
   ]
  },
  {
   "cell_type": "markdown",
   "id": "159c83c8",
   "metadata": {},
   "source": [
    "## **Load pre-trained model and save model locally**"
   ]
  },
  {
   "cell_type": "code",
   "execution_count": null,
   "id": "7f7a0f52",
   "metadata": {},
   "outputs": [],
   "source": [
    "from transformers import AutoModelForSequenceClassification, TFAutoModelForSequenceClassification, AutoTokenizer\n",
    "from scipy.special import softmax\n",
    "import pandas as pd\n",
    "import numpy as np"
   ]
  },
  {
   "cell_type": "code",
   "execution_count": null,
   "id": "a6e9d33d",
   "metadata": {},
   "outputs": [],
   "source": [
    "# download the model\n",
    "MODEL = \"cardiffnlp/twitter-roberta-base-sentiment\"\n",
    "tokenizer = AutoTokenizer.from_pretrained(MODEL)\n",
    "model = AutoModelForSequenceClassification.from_pretrained(MODEL)"
   ]
  },
  {
   "cell_type": "code",
   "execution_count": null,
   "id": "b06332c9",
   "metadata": {},
   "outputs": [],
   "source": [
    "# save the model\n",
    "save_dir = \"./roberta_base_artifacts\"\n",
    "tokenizer.save_pretrained(save_dir)\n",
    "model.save_pretrained(save_dir)"
   ]
  },
  {
   "cell_type": "markdown",
   "id": "6872bf12",
   "metadata": {},
   "source": [
    "## **Load the model from local files**"
   ]
  },
  {
   "cell_type": "code",
   "execution_count": null,
   "id": "34c9b872",
   "metadata": {},
   "outputs": [],
   "source": [
    "class Model:\n",
    "    \"\"\"A model class to lead the model and tokenizer\"\"\"\n",
    "    \n",
    "    def __init__(self) -> None:\n",
    "        pass\n",
    "  \n",
    "    def load_model():\n",
    "        model = AutoModelForSequenceClassification.from_pretrained(save_dir)\n",
    "        \n",
    "        return model\n",
    "\n",
    "    def load_tokenizer():\n",
    "        tokenizer = AutoTokenizer.from_pretrained(save_dir)\n",
    "        \n",
    "        return tokenizer"
   ]
  },
  {
   "cell_type": "markdown",
   "id": "42ab8301",
   "metadata": {},
   "source": [
    "## **Make prediction from locally loaded model**"
   ]
  },
  {
   "cell_type": "code",
   "execution_count": null,
   "id": "d9936c8b",
   "metadata": {},
   "outputs": [],
   "source": [
    "def preprocess(text):\n",
    "    new_text = []\n",
    "    for t in text.split(\" \"):\n",
    "        t = '@user' if t.startswith('@') and len(t) > 1 else t\n",
    "        t = 'http' if t.startswith('http') else t\n",
    "        new_text.append(t)\n",
    "    return \" \".join(new_text)\n",
    "\n",
    "\n",
    "text = \"Good night bitch I hate you😊\"\n",
    "text = preprocess(text)\n",
    "encoded_input = tokenizer(text, return_tensors='pt')\n",
    "\n",
    "output = model(**encoded_input)\n",
    "scores = output[0][0].detach().numpy()\n",
    "scores = softmax(scores)\n",
    "print(scores)"
   ]
  },
  {
   "cell_type": "code",
   "execution_count": null,
   "id": "60ddd3da",
   "metadata": {},
   "outputs": [],
   "source": [
    "#only top score. \n",
    "result = {}\n",
    "labels = [\"Negative\", \"Neutral\", \"Positive\"]\n",
    "encoded_input = tokenizer(text, return_tensors='pt')\n",
    "output = model(**encoded_input)\n",
    "scores = output[0][0].detach().numpy()\n",
    "scores = softmax(scores)\n",
    "scores\n",
    "ranking = np.argsort(scores)\n",
    "ranking = ranking[::-1]\n",
    "result[\"label\"] = str(labels[ranking[0]])\n",
    "result[\"score\"] = np.round(float(scores[ranking[0]]), 4)\n",
    "result"
   ]
  },
  {
   "cell_type": "markdown",
   "id": "038c5734",
   "metadata": {},
   "source": [
    "## **Local prediction again. Serialized as json input. Needed for when deployed**"
   ]
  },
  {
   "cell_type": "code",
   "execution_count": null,
   "id": "ddf92527",
   "metadata": {},
   "outputs": [],
   "source": [
    "#make post request\n",
    "data = {\"text\": \"Hi, Thanks, i'm very sad\"}\n",
    "\n",
    "#fetch text from input\n",
    "text_input = data['text']\n",
    "\n",
    "\n",
    "# same script again\n",
    "text = preprocess(text_input)\n",
    "encoded_input = tokenizer(text, return_tensors='pt')\n",
    "\n",
    "output = model(**encoded_input)\n",
    "scores = output[0][0].detach().numpy()\n",
    "scores = softmax(scores)\n",
    "print(scores)"
   ]
  },
  {
   "cell_type": "markdown",
   "id": "85df94a5",
   "metadata": {},
   "source": [
    "-----"
   ]
  },
  {
   "cell_type": "markdown",
   "id": "c287137f",
   "metadata": {},
   "source": [
    "# **Create model artifacts**"
   ]
  },
  {
   "cell_type": "code",
   "execution_count": 2,
   "id": "e97f99c1",
   "metadata": {},
   "outputs": [],
   "source": [
    "from ads.model.framework.tensorflow_model import TensorFlowModel\n",
    "from ads.common.model_metadata import UseCaseType\n",
    "from ads.common.model_artifact import ModelArtifact\n",
    "from ads.common.model_export_util import prepare_generic_model\n",
    "import os"
   ]
  },
  {
   "cell_type": "code",
   "execution_count": 3,
   "id": "cc239825",
   "metadata": {},
   "outputs": [
    {
     "data": {
      "application/vnd.jupyter.widget-view+json": {
       "model_id": "",
       "version_major": 2,
       "version_minor": 0
      },
      "text/plain": [
       "loop1:   0%|          | 0/4 [00:00<?, ?it/s]"
      ]
     },
     "metadata": {},
     "output_type": "display_data"
    },
    {
     "name": "stdout",
     "output_type": "stream",
     "text": [
      "WARNING:ADS:As force_overwrite is set to True, all the existing files in the ./model_artifacts_roberta_base_sentiment will be removed\n",
      "WARNING:ADS:Taxonomy metadata was not extracted. To auto-populate taxonomy metadata the model must be provided. Pass the model as a parameter to .prepare_generic_model(model=model, usecase_type=UseCaseType.REGRESSION). Alternative way is using atifact.populate_metadata(model=model, usecase_type=UseCaseType.REGRESSION).\n"
     ]
    }
   ],
   "source": [
    "#path to artifacts and conda slug\n",
    "path_to_artifacts = './model_artifacts_roberta_base_sentiment'\n",
    "conda_env = 'oci://conda_environment_yolov5@frqap2zhtzbe/conda_environments/cpu/fdf_conda/1.0/fdf_conda'   #this refers to the published conda location (bucket name, namespace)\n",
    "\n",
    "#create default artifacts\n",
    "artifact = prepare_generic_model(\n",
    "    path_to_artifacts, \n",
    "    fn_artifact_files_included=False, \n",
    "    force_overwrite=True, \n",
    "    inference_conda_env=conda_env)"
   ]
  },
  {
   "cell_type": "markdown",
   "id": "75188654",
   "metadata": {},
   "source": [
    "# **Change the score.py manually**"
   ]
  },
  {
   "cell_type": "code",
   "execution_count": 4,
   "id": "80a9a959",
   "metadata": {},
   "outputs": [],
   "source": [
    "##########\n",
    "##########\n",
    "########## IMPORTANT. AFTER CREATING ARTIFACT FILESC HANGE PYTHON VERSION in the YAML file\n",
    "##########\n",
    "##########  ADD \"inference_python_version=3.7.0 to the above prepare_generic_model\n",
    "##########   "
   ]
  },
  {
   "cell_type": "code",
   "execution_count": null,
   "id": "cc559a86",
   "metadata": {},
   "outputs": [],
   "source": [
    "#copy all files in the model artifacts\n",
    "!cp -a ./roberta_base_artifacts ./model_artifacts_roberta_base_sentiment"
   ]
  },
  {
   "cell_type": "code",
   "execution_count": null,
   "id": "4560ba02",
   "metadata": {},
   "outputs": [],
   "source": [
    "####\n",
    "###\n",
    "##  Output prediction is probably not entirely serialized? \n"
   ]
  },
  {
   "cell_type": "code",
   "execution_count": 5,
   "id": "d8529464",
   "metadata": {},
   "outputs": [
    {
     "name": "stdout",
     "output_type": "stream",
     "text": [
      "Overwriting ./model_artifacts_roberta_base_sentiment/score.py\n"
     ]
    }
   ],
   "source": [
    "%%writefile \"{path_to_artifacts}/score.py\"\n",
    "import os\n",
    "import ads\n",
    "from transformers import AutoModelForSequenceClassification, TFAutoModelForSequenceClassification, AutoTokenizer\n",
    "import tokenizers\n",
    "import pandas as pd\n",
    "import numpy as np\n",
    "import json\n",
    "import os\n",
    "from cloudpickle import cloudpickle\n",
    "from functools import lru_cache\n",
    "from scipy.special import softmax\n",
    "\n",
    "#load model and tokenizer\n",
    "model_artifacts_folder = \"./roberta_base_artifacts\"  \n",
    "\n",
    "def preprocess(text):\n",
    "    new_text = []\n",
    "    for t in text.split(\" \"):\n",
    "        t = '@user' if t.startswith('@') and len(t) > 1 else t\n",
    "        t = 'http' if t.startswith('http') else t\n",
    "        new_text.append(t)\n",
    "    return \" \".join(new_text)\n",
    "\n",
    "\n",
    "\n",
    "def load_model():\n",
    "    class DummyModel:\n",
    "        def __init__(self):\n",
    "            pass\n",
    "    return DummyModel()\n",
    "\n",
    "#loading the model before seemed to fail. NOt sure why. Now loading in the predict.\n",
    "\n",
    "def predict(data, model=load_model()):\n",
    "    \n",
    "    model = AutoModelForSequenceClassification.from_pretrained(model_artifacts_folder)\n",
    "    tokenizer = AutoTokenizer.from_pretrained(model_artifacts_folder)\n",
    "    \n",
    "    #fetch text from input\n",
    "    text_input = data['text']\n",
    "\n",
    "    # process text\n",
    "    text = preprocess(text_input)\n",
    "    encoded_input = tokenizer(text, return_tensors='pt')\n",
    "    encoded_input\n",
    "    output = model(**encoded_input)\n",
    "    scores = output[0][0].detach().numpy()\n",
    "    scores = softmax(scores)\n",
    "    \n",
    "    #convert scores to json\n",
    "    scores_list = scores.tolist()\n",
    "    json_str = json.dumps(scores_list)\n",
    "    \n",
    "    return {'prediction': json_str}"
   ]
  },
  {
   "cell_type": "code",
   "execution_count": null,
   "id": "ae770697",
   "metadata": {},
   "outputs": [],
   "source": [
    "#smal test on local predict()\n",
    "\n",
    "data = {\"text\": \"Hi, Thanks, i'm very sad\"}\n",
    "\n",
    "predict(data)"
   ]
  },
  {
   "cell_type": "markdown",
   "id": "80790977",
   "metadata": {},
   "source": [
    "## **check the artifacts**"
   ]
  },
  {
   "cell_type": "code",
   "execution_count": 6,
   "id": "085b463a",
   "metadata": {},
   "outputs": [
    {
     "name": "stdout",
     "output_type": "stream",
     "text": [
      "['__pycache__', 'test_json_output.json', '.ipynb_checkpoints', 'runtime.yaml', 'roberta_base_artifacts', 'score.py']\n"
     ]
    },
    {
     "data": {
      "text/html": [
       "<div>\n",
       "<style scoped>\n",
       "    .dataframe tbody tr th:only-of-type {\n",
       "        vertical-align: middle;\n",
       "    }\n",
       "\n",
       "    .dataframe tbody tr th {\n",
       "        vertical-align: top;\n",
       "    }\n",
       "\n",
       "    .dataframe thead th {\n",
       "        text-align: right;\n",
       "    }\n",
       "</style>\n",
       "<table border=\"1\" class=\"dataframe\">\n",
       "  <thead>\n",
       "    <tr style=\"text-align: right;\">\n",
       "      <th></th>\n",
       "      <th>Test key</th>\n",
       "      <th>Test name</th>\n",
       "      <th>Result</th>\n",
       "      <th>Message</th>\n",
       "    </tr>\n",
       "  </thead>\n",
       "  <tbody>\n",
       "    <tr>\n",
       "      <th>0</th>\n",
       "      <td>runtime_env_path</td>\n",
       "      <td>Check that field MODEL_DEPLOYMENT.INFERENCE_ENV_PATH is set</td>\n",
       "      <td>Passed</td>\n",
       "      <td></td>\n",
       "    </tr>\n",
       "    <tr>\n",
       "      <th>1</th>\n",
       "      <td>runtime_env_python</td>\n",
       "      <td>Check that field MODEL_DEPLOYMENT.INFERENCE_PYTHON_VERSION is set to a value of 3.6 or higher</td>\n",
       "      <td>Passed</td>\n",
       "      <td></td>\n",
       "    </tr>\n",
       "    <tr>\n",
       "      <th>2</th>\n",
       "      <td>runtime_path_exist</td>\n",
       "      <td>Check that the file path in MODEL_DEPLOYMENT.INFERENCE_ENV_PATH is correct.</td>\n",
       "      <td>Passed</td>\n",
       "      <td></td>\n",
       "    </tr>\n",
       "    <tr>\n",
       "      <th>3</th>\n",
       "      <td>runtime_version</td>\n",
       "      <td>Check that field MODEL_ARTIFACT_VERSION is set to 3.0</td>\n",
       "      <td>Passed</td>\n",
       "      <td></td>\n",
       "    </tr>\n",
       "    <tr>\n",
       "      <th>4</th>\n",
       "      <td>runtime_yaml</td>\n",
       "      <td>Check that the file \"runtime.yaml\" exists and is in the top level directory of the artifact directory</td>\n",
       "      <td>Passed</td>\n",
       "      <td></td>\n",
       "    </tr>\n",
       "    <tr>\n",
       "      <th>5</th>\n",
       "      <td>score_load_model</td>\n",
       "      <td>Check that load_model() is defined</td>\n",
       "      <td>Passed</td>\n",
       "      <td></td>\n",
       "    </tr>\n",
       "    <tr>\n",
       "      <th>6</th>\n",
       "      <td>score_predict</td>\n",
       "      <td>Check that predict() is defined</td>\n",
       "      <td>Passed</td>\n",
       "      <td></td>\n",
       "    </tr>\n",
       "    <tr>\n",
       "      <th>7</th>\n",
       "      <td>score_predict_arg</td>\n",
       "      <td>Check that all other arguments in predict() are optional and have default values</td>\n",
       "      <td>Passed</td>\n",
       "      <td></td>\n",
       "    </tr>\n",
       "    <tr>\n",
       "      <th>8</th>\n",
       "      <td>score_predict_data</td>\n",
       "      <td>Check that the only required argument for predict() is named \"data\"</td>\n",
       "      <td>Passed</td>\n",
       "      <td></td>\n",
       "    </tr>\n",
       "    <tr>\n",
       "      <th>9</th>\n",
       "      <td>score_py</td>\n",
       "      <td>Check that the file \"score.py\" exists and is in the top level directory of the artifact directory</td>\n",
       "      <td>Passed</td>\n",
       "      <td></td>\n",
       "    </tr>\n",
       "    <tr>\n",
       "      <th>10</th>\n",
       "      <td>score_syntax</td>\n",
       "      <td>Check for Python syntax errors</td>\n",
       "      <td>Passed</td>\n",
       "      <td></td>\n",
       "    </tr>\n",
       "  </tbody>\n",
       "</table>\n",
       "</div>"
      ],
      "text/plain": [
       "              Test key  \\\n",
       "0     runtime_env_path   \n",
       "1   runtime_env_python   \n",
       "2   runtime_path_exist   \n",
       "3      runtime_version   \n",
       "4         runtime_yaml   \n",
       "5     score_load_model   \n",
       "6        score_predict   \n",
       "7    score_predict_arg   \n",
       "8   score_predict_data   \n",
       "9             score_py   \n",
       "10        score_syntax   \n",
       "\n",
       "                                                                                                Test name  \\\n",
       "0                                             Check that field MODEL_DEPLOYMENT.INFERENCE_ENV_PATH is set   \n",
       "1           Check that field MODEL_DEPLOYMENT.INFERENCE_PYTHON_VERSION is set to a value of 3.6 or higher   \n",
       "2                             Check that the file path in MODEL_DEPLOYMENT.INFERENCE_ENV_PATH is correct.   \n",
       "3                                                   Check that field MODEL_ARTIFACT_VERSION is set to 3.0   \n",
       "4   Check that the file \"runtime.yaml\" exists and is in the top level directory of the artifact directory   \n",
       "5                                                                      Check that load_model() is defined   \n",
       "6                                                                         Check that predict() is defined   \n",
       "7                        Check that all other arguments in predict() are optional and have default values   \n",
       "8                                     Check that the only required argument for predict() is named \"data\"   \n",
       "9       Check that the file \"score.py\" exists and is in the top level directory of the artifact directory   \n",
       "10                                                                         Check for Python syntax errors   \n",
       "\n",
       "    Result Message  \n",
       "0   Passed          \n",
       "1   Passed          \n",
       "2   Passed          \n",
       "3   Passed          \n",
       "4   Passed          \n",
       "5   Passed          \n",
       "6   Passed          \n",
       "7   Passed          \n",
       "8   Passed          \n",
       "9   Passed          \n",
       "10  Passed          "
      ]
     },
     "execution_count": 6,
     "metadata": {},
     "output_type": "execute_result"
    }
   ],
   "source": [
    "#all should be passed\n",
    "artifact.introspect()"
   ]
  },
  {
   "cell_type": "markdown",
   "id": "9f0c7c90",
   "metadata": {},
   "source": [
    "## **Test model from artifacts**"
   ]
  },
  {
   "cell_type": "code",
   "execution_count": 7,
   "id": "bb21b943",
   "metadata": {},
   "outputs": [],
   "source": [
    "import sys\n",
    "sys.path.insert(0, path_to_artifacts)\n",
    " \n",
    "# importing load_model() and predict() that are defined in score.py\n",
    "from score import load_model, predict\n",
    " \n",
    "# Loading the model to memory\n",
    "_ = load_model()"
   ]
  },
  {
   "cell_type": "code",
   "execution_count": 8,
   "id": "c5142be3",
   "metadata": {},
   "outputs": [
    {
     "data": {
      "text/plain": [
       "{'prediction': '[0.8859006762504578, 0.09977766126394272, 0.014321762137115002]'}"
      ]
     },
     "execution_count": 8,
     "metadata": {},
     "output_type": "execute_result"
    }
   ],
   "source": [
    "data = {\"text\": \"Hi, Thanks, i'm very sad\"}\n",
    "\n",
    "predictions_test = predict(data, _)\n",
    "predictions_test"
   ]
  },
  {
   "cell_type": "markdown",
   "id": "f4fc2b96",
   "metadata": {},
   "source": [
    "## **store in catalog**"
   ]
  },
  {
   "cell_type": "code",
   "execution_count": 9,
   "id": "e9a78407",
   "metadata": {},
   "outputs": [
    {
     "data": {
      "application/vnd.jupyter.widget-view+json": {
       "model_id": "",
       "version_major": 2,
       "version_minor": 0
      },
      "text/plain": [
       "loop1:   0%|          | 0/5 [00:00<?, ?it/s]"
      ]
     },
     "metadata": {},
     "output_type": "display_data"
    },
    {
     "name": "stdout",
     "output_type": "stream",
     "text": [
      "artifact:/tmp/saved_model_7e5a1425-b7dd-4b8b-99d3-af4d9444ca2c.zip\n"
     ]
    },
    {
     "data": {
      "text/plain": [
       "'ocid1.datasciencemodel.oc1.eu-frankfurt-1.amaaaaaangencdya6kby5jvilx7lghnpkd72qiwbh3fhoxog6hadphxscbla'"
      ]
     },
     "execution_count": 9,
     "metadata": {},
     "output_type": "execute_result"
    }
   ],
   "source": [
    "# Saving the model artifact to the model catalog. \n",
    "catalog_entry = artifact.save(display_name='roberta_base_v1', description='roberta_base_v1', timeout=600)\n",
    "catalog_entry.id"
   ]
  },
  {
   "cell_type": "markdown",
   "id": "d74ce50a",
   "metadata": {},
   "source": [
    "## **Deploy in the UI**"
   ]
  },
  {
   "cell_type": "markdown",
   "id": "034ceb6e",
   "metadata": {},
   "source": [
    "## **Invoke the model**"
   ]
  },
  {
   "cell_type": "code",
   "execution_count": 10,
   "id": "34ac15ad",
   "metadata": {},
   "outputs": [],
   "source": [
    "import requests\n",
    "import oci\n",
    "from oci.signer import Signer"
   ]
  },
  {
   "cell_type": "code",
   "execution_count": 11,
   "id": "d35e0eb6",
   "metadata": {},
   "outputs": [
    {
     "name": "stdout",
     "output_type": "stream",
     "text": [
      "https://modeldeployment.eu-frankfurt-1.oci.customer-oci.com/ocid1.datasciencemodeldeployment.oc1.eu-frankfurt-1.amaaaaaangencdya25yroloh5zt65kh7aoisqwmk2ulrt3rrgv7mxytovl2a/predict\n"
     ]
    }
   ],
   "source": [
    "#fdf version mf_final\n",
    "uri = f\"https://modeldeployment.eu-frankfurt-1.oci.customer-oci.com/ocid1.datasciencemodeldeployment.oc1.eu-frankfurt-1.amaaaaaangencdya25yroloh5zt65kh7aoisqwmk2ulrt3rrgv7mxytovl2a/predict\"\n",
    "print(uri)"
   ]
  },
  {
   "cell_type": "code",
   "execution_count": 12,
   "id": "af3615a8",
   "metadata": {},
   "outputs": [],
   "source": [
    "# Using Resource principal to authenticate against the model endpoint. Set using_rps=False if you are using the config+key flow. \n",
    "using_rps = False\n",
    "\n",
    "if using_rps: # using resource principal:     \n",
    "    auth = oci.auth.signers.get_resource_principals_signer()\n",
    "else: # using config + key: \n",
    "    config = oci.config.from_file(\"~/.oci/config\") # replace with the location of your oci config file\n",
    "    auth = Signer(\n",
    "        tenancy=config['tenancy'],\n",
    "        user=config['user'],\n",
    "        fingerprint=config['fingerprint'],\n",
    "        private_key_file_location=config['key_file'],\n",
    "        pass_phrase=config['pass_phrase'])"
   ]
  },
  {
   "cell_type": "code",
   "execution_count": null,
   "id": "ffc51811",
   "metadata": {},
   "outputs": [],
   "source": []
  },
  {
   "cell_type": "code",
   "execution_count": 22,
   "id": "d0f88a98",
   "metadata": {},
   "outputs": [
    {
     "name": "stdout",
     "output_type": "stream",
     "text": [
      "<Response [200]>\n",
      "{'prediction': '[0.001066302414983511, 0.017006639391183853, 0.9819270372390747]'}\n",
      "CPU times: user 18.9 ms, sys: 2.68 ms, total: 21.6 ms\n",
      "Wall time: 1.09 s\n"
     ]
    }
   ],
   "source": [
    "%%time\n",
    "import json\n",
    "\n",
    "#input data\n",
    "data = {\"text\": \"Hi, Thanks, i'm very positive today.\"}\n",
    "\n",
    "#POST request to the model\n",
    "response = requests.post(uri, json=data, auth=auth)\n",
    "print(response)\n",
    "print(json.loads(response.content))\n",
    "\n",
    "#label 1 = Negative\n",
    "#Label 2 = Medium\n",
    "#Label 3 = Positive"
   ]
  },
  {
   "cell_type": "code",
   "execution_count": null,
   "id": "c0d5f8d4",
   "metadata": {},
   "outputs": [],
   "source": []
  },
  {
   "cell_type": "code",
   "execution_count": null,
   "id": "982e4014",
   "metadata": {},
   "outputs": [],
   "source": []
  }
 ],
 "metadata": {
  "kernelspec": {
   "display_name": "Python [conda env:fdf_conda]",
   "language": "python",
   "name": "conda-env-fdf_conda-py"
  },
  "language_info": {
   "codemirror_mode": {
    "name": "ipython",
    "version": 3
   },
   "file_extension": ".py",
   "mimetype": "text/x-python",
   "name": "python",
   "nbconvert_exporter": "python",
   "pygments_lexer": "ipython3",
   "version": "3.7.10"
  }
 },
 "nbformat": 4,
 "nbformat_minor": 5
}
